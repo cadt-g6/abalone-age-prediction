{
 "cells": [
  {
   "cell_type": "code",
   "execution_count": 30,
   "metadata": {},
   "outputs": [],
   "source": [
    "import pandas as pd\n",
    "import seaborn as sns\n",
    "import matplotlib.pyplot as plt\n",
    "import numpy as np\n",
    "import pickle\n",
    "from sklearn.model_selection import train_test_split\n",
    "from sklearn.linear_model import LinearRegression\n",
    "from sklearn import metrics\n",
    "import category_encoders as ce\n",
    "from sklearn.model_selection import train_test_split\n",
    "from sklearn.linear_model import LinearRegression\n",
    "from sklearn import metrics\n",
    "from sklearn.preprocessing import LabelEncoder\n",
    "from datetime import datetime\n",
    "from pandas.plotting import scatter_matrix\n"
   ]
  },
  {
   "cell_type": "code",
   "execution_count": 31,
   "metadata": {},
   "outputs": [],
   "source": [
    "# Import Model\n",
    "with open(\"../models/model.pkl\", \"rb\") as f:\n",
    "    model = pickle.load(f)\n"
   ]
  },
  {
   "cell_type": "code",
   "execution_count": 32,
   "metadata": {},
   "outputs": [],
   "source": [
    "# Import sample columns\n",
    "sample_df = pd.read_csv(\"../datasets/cleaned/abalone.csv\")\n",
    "\n",
    "sample_df = sample_df.drop([\"Age\"], axis=1)\n"
   ]
  },
  {
   "cell_type": "code",
   "execution_count": 46,
   "metadata": {},
   "outputs": [],
   "source": [
    "# Predict Function\n",
    "def predict(model, inputs):\n",
    "    df = pd.DataFrame(columns=sample_df.columns)\n",
    "    df = df.append(\n",
    "        {\n",
    "            \"Sex\": inputs[\"Sex\"],\n",
    "            \"Length\": inputs[\"Length\"],\n",
    "            \"Diameter\": inputs[\"Diameter\"],\n",
    "            \"Height\": inputs[\"Height\"],\n",
    "            \"Whole weight\": inputs[\"Whole weight\"],\n",
    "            \"Shucked weight\": inputs[\"Shucked weight\"],\n",
    "            \"Viscera weight\": inputs[\"Viscera weight\"],\n",
    "            \"Shell weight\": inputs[\"Shell weight\"],\n",
    "        },\n",
    "        ignore_index=True,\n",
    "    )\n",
    "    return round(model.predict(df)[0],1)\n"
   ]
  },
  {
   "cell_type": "code",
   "execution_count": 47,
   "metadata": {},
   "outputs": [
    {
     "name": "stdout",
     "output_type": "stream",
     "text": [
      "{'Sex': 1, 'Length': 0.36, 'Diameter': 0.285, 'Height': 0.105, 'Whole weight': 0.2415, 'Shucked weight': 0.0915, 'Viscera weight': 0.057, 'Shell weight': 0.075}\n",
      "Age Prediction: 9.4\n"
     ]
    }
   ],
   "source": [
    "# Test Predict Function\n",
    "# 0,0.545,0.43,0.165,0.802,0.2935,0.183,0.28 => 12.5\n",
    "# 1,0.36,0.285,0.105,0.2415,0.0915,0.057,0.075 => 8.5\n",
    "inputs = {\n",
    "    \"Sex\": 1, # F: 0, I: 1, M: 2,\n",
    "    \"Length\": 0.36,\n",
    "    \"Diameter\": 0.285,\n",
    "    \"Height\": 0.105,\n",
    "    \"Whole weight\": 0.2415,\n",
    "    \"Shucked weight\": 0.0915,\n",
    "    \"Viscera weight\": 0.057,\n",
    "    \"Shell weight\": 0.075,\n",
    "}\n",
    "print(inputs)\n",
    "result = predict(model, inputs)\n",
    "print(f\"Age Prediction: {result}\")"
   ]
  }
 ],
 "metadata": {
  "kernelspec": {
   "display_name": "Python 3.7.13 ('py3713')",
   "language": "python",
   "name": "python3"
  },
  "language_info": {
   "codemirror_mode": {
    "name": "ipython",
    "version": 3
   },
   "file_extension": ".py",
   "mimetype": "text/x-python",
   "name": "python",
   "nbconvert_exporter": "python",
   "pygments_lexer": "ipython3",
   "version": "3.7.13"
  },
  "orig_nbformat": 4,
  "vscode": {
   "interpreter": {
    "hash": "54ae77d99027f0d13038ca084b540453b82c37c2eca01bed87aeeb3ca6e59f4b"
   }
  }
 },
 "nbformat": 4,
 "nbformat_minor": 2
}

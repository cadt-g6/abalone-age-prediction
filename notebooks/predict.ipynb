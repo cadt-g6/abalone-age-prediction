{
 "cells": [
  {
   "cell_type": "code",
   "execution_count": 1,
   "metadata": {},
   "outputs": [],
   "source": [
    "import pandas as pd\n",
    "import pickle\n"
   ]
  },
  {
   "cell_type": "code",
   "execution_count": 2,
   "metadata": {},
   "outputs": [
    {
     "name": "stderr",
     "output_type": "stream",
     "text": [
      "/Users/samdyvin/opt/anaconda3/envs/py3713/lib/python3.7/site-packages/sklearn/base.py:338: UserWarning: Trying to unpickle estimator LinearRegression from version 0.23.2 when using version 1.0.2. This might lead to breaking code or invalid results. Use at your own risk. For more info please refer to:\n",
      "https://scikit-learn.org/stable/modules/model_persistence.html#security-maintainability-limitations\n",
      "  UserWarning,\n"
     ]
    }
   ],
   "source": [
    "# Import Model\n",
    "with open(\"../models/model.pkl\", \"rb\") as f:\n",
    "    model = pickle.load(f)\n"
   ]
  },
  {
   "cell_type": "code",
   "execution_count": 3,
   "metadata": {},
   "outputs": [],
   "source": [
    "# Import sample columns\n",
    "sample_df = pd.read_csv(\"../datasets/cleaned/abalone.csv\")\n",
    "\n",
    "sample_df = sample_df.drop([\"Age\"], axis=1)\n"
   ]
  },
  {
   "cell_type": "code",
   "execution_count": 4,
   "metadata": {},
   "outputs": [],
   "source": [
    "# Predict Function\n",
    "def predict(model, inputs):\n",
    "    df = pd.DataFrame(columns=sample_df.columns)\n",
    "    df = df.append(\n",
    "        {\n",
    "            \"Sex\": inputs[\"Sex\"],\n",
    "            \"Length\": inputs[\"Length\"],\n",
    "            \"Diameter\": inputs[\"Diameter\"],\n",
    "            \"Height\": inputs[\"Height\"],\n",
    "            \"Whole weight\": inputs[\"Whole weight\"],\n",
    "            \"Shucked weight\": inputs[\"Shucked weight\"],\n",
    "            \"Viscera weight\": inputs[\"Viscera weight\"],\n",
    "            \"Shell weight\": inputs[\"Shell weight\"],\n",
    "        },\n",
    "        ignore_index=True,\n",
    "    )\n",
    "    return round(model.predict(df)[0],1)\n"
   ]
  },
  {
   "cell_type": "code",
   "execution_count": 5,
   "metadata": {},
   "outputs": [
    {
     "name": "stdout",
     "output_type": "stream",
     "text": [
      "{'Sex': 1, 'Length': 0.36, 'Diameter': 0.285, 'Height': 0.105, 'Whole weight': 0.2415, 'Shucked weight': 0.0915, 'Viscera weight': 0.057, 'Shell weight': 0.075}\n",
      "Age Prediction: 9.4\n"
     ]
    },
    {
     "name": "stderr",
     "output_type": "stream",
     "text": [
      "/Users/samdyvin/opt/anaconda3/envs/py3713/lib/python3.7/site-packages/sklearn/base.py:444: UserWarning: X has feature names, but LinearRegression was fitted without feature names\n",
      "  f\"X has feature names, but {self.__class__.__name__} was fitted without\"\n"
     ]
    }
   ],
   "source": [
    "# Test Predict Function\n",
    "# 0,0.545,0.43,0.165,0.802,0.2935,0.183,0.28 => 12.5\n",
    "# 1,0.36,0.285,0.105,0.2415,0.0915,0.057,0.075 => 8.5\n",
    "inputs = {\n",
    "    \"Sex\": 1, # F: 0, I: 1, M: 2,\n",
    "    \"Length\": 0.36,\n",
    "    \"Diameter\": 0.285,\n",
    "    \"Height\": 0.105,\n",
    "    \"Whole weight\": 0.2415,\n",
    "    \"Shucked weight\": 0.0915,\n",
    "    \"Viscera weight\": 0.057,\n",
    "    \"Shell weight\": 0.075,\n",
    "}\n",
    "print(inputs)\n",
    "result = predict(model, inputs)\n",
    "print(f\"Age Prediction: {result}\")"
   ]
  }
 ],
 "metadata": {
  "kernelspec": {
   "display_name": "Python 3.7.13 ('py3713')",
   "language": "python",
   "name": "python3"
  },
  "language_info": {
   "codemirror_mode": {
    "name": "ipython",
    "version": 3
   },
   "file_extension": ".py",
   "mimetype": "text/x-python",
   "name": "python",
   "nbconvert_exporter": "python",
   "pygments_lexer": "ipython3",
   "version": "3.7.13"
  },
  "orig_nbformat": 4,
  "vscode": {
   "interpreter": {
    "hash": "f6f2d8fd6d462feaed507cdfc5da4935209321b44b53223f2163e3aca9029aac"
   }
  }
 },
 "nbformat": 4,
 "nbformat_minor": 2
}

{
 "cells": [
  {
   "cell_type": "code",
   "execution_count": 80,
   "metadata": {},
   "outputs": [],
   "source": [
    "from collections import deque\n",
    "\n",
    "def tail(filename, n=10):\n",
    "    with open(filename) as f:\n",
    "        result = deque(f, n)\n",
    "        result = list(result)\n",
    "        result = result[2:5]\n",
    "        result = \"\".join(result)\n",
    "        result = result[:-1]\n",
    "        return result"
   ]
  },
  {
   "cell_type": "code",
   "execution_count": 81,
   "metadata": {},
   "outputs": [],
   "source": [
    "def trained_info():\n",
    "    print(\"============= TRAINED INFO =============\")\n",
    "    # Trained count of the model\n",
    "    with open('../logs/daily.log') as f:\n",
    "        count = abs(round(len(f.readlines())/6))\n",
    "        print(f'Trained count: {count} {\"times\" if count > 1 else \"time\" }')\n",
    "\n",
    "    # Last Saved Model\n",
    "    print(\"\\n---------------------------------------\")\n",
    "    print(\"The Last Saved Model\")\n",
    "    print(\"---------------------------------------\")\n",
    "    print(tail('../logs/new_model.log', 6))\n",
    "    print(\"---------------------------------------\")\n",
    "    print(\"========================================\")\n"
   ]
  },
  {
   "cell_type": "code",
   "execution_count": 82,
   "metadata": {},
   "outputs": [
    {
     "name": "stdout",
     "output_type": "stream",
     "text": [
      "============= TRAINED INFO =============\n",
      "Trained count: 10000 times\n",
      "\n",
      "---------------------------------------\n",
      "The Last Saved Model\n",
      "---------------------------------------\n",
      "Date: 2022-08-01 03:03:57\n",
      "Score: 0.5376884584375401\n",
      "Predict Percentages: 54 %\n",
      "---------------------------------------\n",
      "========================================\n"
     ]
    }
   ],
   "source": [
    "trained_info()"
   ]
  }
 ],
 "metadata": {
  "kernelspec": {
   "display_name": "Python 3.7.13 ('py3713')",
   "language": "python",
   "name": "python3"
  },
  "language_info": {
   "codemirror_mode": {
    "name": "ipython",
    "version": 3
   },
   "file_extension": ".py",
   "mimetype": "text/x-python",
   "name": "python",
   "nbconvert_exporter": "python",
   "pygments_lexer": "ipython3",
   "version": "3.7.13"
  },
  "orig_nbformat": 4,
  "vscode": {
   "interpreter": {
    "hash": "54ae77d99027f0d13038ca084b540453b82c37c2eca01bed87aeeb3ca6e59f4b"
   }
  }
 },
 "nbformat": 4,
 "nbformat_minor": 2
}
